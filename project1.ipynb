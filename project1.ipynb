{
 "cells": [
  {
   "cell_type": "code",
   "execution_count": 22,
   "metadata": {},
   "outputs": [],
   "source": [
    "\n",
    "import cv2 as cv\n",
    "import numpy as np"
   ]
  },
  {
   "cell_type": "code",
   "execution_count": 23,
   "metadata": {},
   "outputs": [
    {
     "data": {
      "text/plain": [
       "True"
      ]
     },
     "execution_count": 23,
     "metadata": {},
     "output_type": "execute_result"
    }
   ],
   "source": [
    "# change it with your absolute path for the image\n",
    "image = cv.imread(\"D:\\\\python report\\\\project 01\\\\08.jpg\")\n",
    "gray_image = cv.cvtColor(image, cv.COLOR_BGR2GRAY)\n",
    "blur = cv.GaussianBlur(gray_image, (5, 5),\n",
    "                       cv.BORDER_DEFAULT)\n",
    "ret, thresh = cv.threshold(blur, 200, 255,\n",
    "                           cv.THRESH_BINARY_INV)\n",
    "cv.imshow('Grayscale', gray_image)\n",
    "cv.waitKey(0)\n",
    "cv.imwrite(\"gray_08.jpg\",thresh)\n"
   ]
  },
  {
   "cell_type": "code",
   "execution_count": 17,
   "metadata": {},
   "outputs": [],
   "source": [
    "contours, hierarchies = cv.findContours(\n",
    "    thresh, cv.RETR_LIST, cv.CHAIN_APPROX_SIMPLE)"
   ]
  },
  {
   "cell_type": "code",
   "execution_count": 18,
   "metadata": {},
   "outputs": [
    {
     "data": {
      "text/plain": [
       "True"
      ]
     },
     "execution_count": 18,
     "metadata": {},
     "output_type": "execute_result"
    }
   ],
   "source": [
    "blank = np.zeros(thresh.shape[:2],\n",
    "                 dtype='uint8')\n",
    " \n",
    "cv.drawContours(blank, contours, -1,\n",
    "                (255, 0, 0), 1)\n",
    " \n",
    "cv.imwrite(\"Contours_08.jpg\", blank)\n",
    "\n"
   ]
  },
  {
   "cell_type": "code",
   "execution_count": 19,
   "metadata": {},
   "outputs": [
    {
     "name": "stdout",
     "output_type": "stream",
     "text": [
      "x: 1387 y: 1735\n",
      "x: 425 y: 509\n",
      "x: 436 y: 503\n",
      "x: 298 y: 502\n",
      "x: 409 y: 507\n",
      "x: 336 y: 501\n",
      "x: 438 y: 493\n",
      "x: 428 y: 493\n",
      "x: 327 y: 491\n",
      "x: 53 y: 491\n",
      "x: 42 y: 489\n",
      "x: 43 y: 488\n",
      "x: 359 y: 485\n",
      "x: 439 y: 482\n",
      "x: 293 y: 482\n",
      "x: 498 y: 478\n",
      "x: 308 y: 477\n",
      "x: 495 y: 476\n",
      "x: 326 y: 477\n",
      "x: 323 y: 475\n",
      "x: 343 y: 474\n",
      "x: 333 y: 474\n",
      "x: 304 y: 474\n",
      "x: 332 y: 472\n",
      "x: 354 y: 475\n",
      "x: 316 y: 469\n",
      "x: 325 y: 466\n",
      "x: 392 y: 458\n",
      "x: 83 y: 445\n",
      "x: 329 y: 425\n",
      "x: 329 y: 425\n",
      "x: 754 y: 420\n",
      "x: 705 y: 418\n",
      "x: 698 y: 414\n",
      "x: 720 y: 414\n",
      "x: 121 y: 390\n",
      "x: 127 y: 383\n",
      "x: 129 y: 380\n",
      "x: 131 y: 378\n",
      "x: 132 y: 376\n",
      "x: 749 y: 375\n",
      "x: 765 y: 368\n",
      "x: 688 y: 369\n",
      "x: 553 y: 370\n",
      "x: 553 y: 370\n",
      "x: 744 y: 363\n",
      "x: 698 y: 359\n",
      "x: 766 y: 357\n",
      "x: 658 y: 350\n",
      "x: 756 y: 347\n",
      "x: 714 y: 347\n",
      "x: 162 y: 336\n",
      "x: 706 y: 336\n",
      "x: 165 y: 332\n",
      "x: 718 y: 331\n",
      "x: 168 y: 329\n",
      "x: 169 y: 328\n",
      "x: 170 y: 327\n",
      "x: 171 y: 326\n",
      "x: 172 y: 325\n",
      "x: 673 y: 327\n",
      "x: 173 y: 324\n",
      "x: 559 y: 340\n",
      "x: 174 y: 323\n",
      "x: 678 y: 321\n",
      "x: 177 y: 320\n",
      "x: 750 y: 323\n",
      "x: 178 y: 319\n",
      "x: 753 y: 261\n",
      "x: 262 y: 203\n",
      "x: 288 y: 170\n",
      "x: 288 y: 170\n",
      "x: 288 y: 170\n",
      "x: 657 y: 114\n",
      "x: 343 y: 119\n",
      "x: 374 y: 250\n"
     ]
    }
   ],
   "source": [
    "\n",
    "for i in contours:\n",
    "    M = cv.moments(i)\n",
    "    if M['m00'] != 0:\n",
    "        cx = int(M['m10']/M['m00'])\n",
    "        cy = int(M['m01']/M['m00'])\n",
    "        cv.drawContours(image, [i], -1, (0, 255, 0), 2)\n",
    "        cv.circle(image, (cx, cy), 7, (0, 0, 255), -1)\n",
    "        cv.putText(image, \"center\", (cx - 20, cy - 20),\n",
    "                   cv.FONT_HERSHEY_SIMPLEX, 0.5, (0, 0, 0), 2)\n",
    "    print(f\"x: {cx} y: {cy}\")"
   ]
  },
  {
   "cell_type": "code",
   "execution_count": 21,
   "metadata": {},
   "outputs": [
    {
     "data": {
      "text/plain": [
       "True"
      ]
     },
     "execution_count": 21,
     "metadata": {},
     "output_type": "execute_result"
    }
   ],
   "source": [
    "cv.imwrite(\"center_08.jpg\", image)"
   ]
  }
 ],
 "metadata": {
  "kernelspec": {
   "display_name": "Python 3.10.6 64-bit",
   "language": "python",
   "name": "python3"
  },
  "language_info": {
   "codemirror_mode": {
    "name": "ipython",
    "version": 3
   },
   "file_extension": ".py",
   "mimetype": "text/x-python",
   "name": "python",
   "nbconvert_exporter": "python",
   "pygments_lexer": "ipython3",
   "version": "3.10.6"
  },
  "orig_nbformat": 4,
  "vscode": {
   "interpreter": {
    "hash": "31671a60cee805c34c73116577b485118ff3a75c458d3004d49632c19702ac60"
   }
  }
 },
 "nbformat": 4,
 "nbformat_minor": 2
}
